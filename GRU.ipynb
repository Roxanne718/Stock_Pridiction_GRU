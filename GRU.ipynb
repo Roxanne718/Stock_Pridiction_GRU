{
 "cells": [
  {
   "cell_type": "code",
   "execution_count": 2,
   "id": "2f5be438",
   "metadata": {},
   "outputs": [],
   "source": [
    "import torch\n",
    "from torch import nn\n",
    "from torch.utils.data import Dataset\n",
    "import numpy as np\n",
    "import pandas as pd\n",
    "\n",
    "class Data(Dataset):\n",
    "\n",
    "    def __init__(self, dt: pd.DataFrame, window_size: int = 20):\n",
    "        \"\"\"\n",
    "        feature:\n",
    "        \"收盘价\", \"开盘价\", \"最高价\", \"最低价\", \"成交量\"\n",
    "        \"\"\"\n",
    "        super().__init__()\n",
    "        self.values = torch.from_numpy(dt.iloc[:, 2:].values).type(dtype=torch.float32)\n",
    "        self.window_size = window_size\n",
    "        self.num_feature = self.values.shape[1]\n",
    "\n",
    "    def __getitem__(self, idx: int):\n",
    "        # (N_batch, seq_length, num_feature)\n",
    "        x = self.values[idx:(idx+self.window_size)].reshape((self.window_size, self.num_feature))\n",
    "        y = self.values[idx+1:(idx+self.window_size+1), 0].reshape((self.window_size, 1))[-1]\n",
    "        return x, y\n",
    "\n",
    "    def __len__(self):\n",
    "        return self.values.shape[0] - self.window_size"
   ]
  },
  {
   "cell_type": "code",
   "execution_count": 3,
   "id": "b75de276",
   "metadata": {},
   "outputs": [],
   "source": [
    "class AccRate:\n",
    "    \"\"\"\n",
    "    https://flyai.com/d/StockPredict\n",
    "    挑战赛上的反向误差率：\n",
    "    \"\"\"\n",
    "    def __init__(self):\n",
    "        pass\n",
    "\n",
    "    def __call__(self, output: torch.Tensor, x: torch.Tensor):\n",
    "        high = x[:, 2]\n",
    "        low = x[:, 3]\n",
    "        gt = x[:, 0]\n",
    "        return 100 * (1 - torch.sum((output - gt) / (high - low))/x.shape[0])\n",
    "    \n",
    "acc_rate = AccRate()"
   ]
  },
  {
   "cell_type": "code",
   "execution_count": 4,
   "id": "714a8c60",
   "metadata": {},
   "outputs": [],
   "source": [
    "import matplotlib.pyplot as plt\n",
    "import numpy as np\n",
    "import pandas as pd\n",
    "import os\n",
    "import torch\n",
    "\n",
    "def plot(ground_truth: pd.Series, pred: np.ndarray, tag: int, save_file: str, error: float):\n",
    "    if isinstance(pred, list):\n",
    "        pred = np.asarray(pred)\n",
    "    if isinstance(error, torch.Tensor):\n",
    "        error = error.item()\n",
    "    if not os.path.exists(\"output\"):\n",
    "        os.mkdir(\"output\") \n",
    "    plt.figure()\n",
    "    # plt.title(f\"result: {error}\")\n",
    "    pre = np.ones_like(pred)\n",
    "    post = np.ones_like(pred)\n",
    "    pre[tag:] = pred[tag:] * np.inf\n",
    "    post[:tag] = post[:tag] * np.inf\n",
    "\n",
    "    plt.plot(ground_truth.values, label=\"ground truth\", color=\"green\")\n",
    "    plt.plot(pred * pre, label=\"predication(train stage)\", linestyle=\"--\", color=\"purple\")\n",
    "    plt.plot(pred * post, label=\"predication(test stage)\", linestyle=\"--\", color=\"red\")\n",
    "    plt.legend()\n",
    "    plt.axvline(x=tag, linestyle=\":\", color=\"cyan\")\n",
    "    plt.savefig(f\"output/{save_file}.png\", bbox_inches=\"tight\")\n",
    "    plt.close()"
   ]
  },
  {
   "cell_type": "code",
   "execution_count": 21,
   "id": "e7a5093f",
   "metadata": {},
   "outputs": [
    {
     "name": "stderr",
     "output_type": "stream",
     "text": [
      "Training..: 100%|██████████| 100/100 [01:38<00:00,  1.01it/s, loss=4.03e-5]\n",
      "Testing...:   0%|          | 0/47 [00:00<?, ?it/s]"
     ]
    },
    {
     "name": "stdout",
     "output_type": "stream",
     "text": [
      "训练时间：98\n"
     ]
    },
    {
     "name": "stderr",
     "output_type": "stream",
     "text": [
      "Testing...: 100%|██████████| 47/47 [00:00<00:00, 164.76it/s]\n",
      "Training..: 100%|██████████| 100/100 [01:36<00:00,  1.03it/s, loss=7.08e-5]\n",
      "Testing...:   0%|          | 0/47 [00:00<?, ?it/s]"
     ]
    },
    {
     "name": "stdout",
     "output_type": "stream",
     "text": [
      "训练时间：96\n"
     ]
    },
    {
     "name": "stderr",
     "output_type": "stream",
     "text": [
      "Testing...: 100%|██████████| 47/47 [00:00<00:00, 170.67it/s]\n",
      "Training..: 100%|██████████| 100/100 [01:36<00:00,  1.04it/s, loss=0.00158]\n",
      "Testing...:   0%|          | 0/47 [00:00<?, ?it/s]"
     ]
    },
    {
     "name": "stdout",
     "output_type": "stream",
     "text": [
      "训练时间：96\n"
     ]
    },
    {
     "name": "stderr",
     "output_type": "stream",
     "text": [
      "Testing...: 100%|██████████| 47/47 [00:00<00:00, 167.95it/s]\n",
      "Training..: 100%|██████████| 100/100 [01:34<00:00,  1.06it/s, loss=0.004]  \n",
      "Testing...:   0%|          | 0/47 [00:00<?, ?it/s]"
     ]
    },
    {
     "name": "stdout",
     "output_type": "stream",
     "text": [
      "训练时间：94\n"
     ]
    },
    {
     "name": "stderr",
     "output_type": "stream",
     "text": [
      "Testing...: 100%|██████████| 47/47 [00:00<00:00, 163.57it/s]\n",
      "Training..: 100%|██████████| 100/100 [01:37<00:00,  1.03it/s, loss=0.000923]\n",
      "Testing...:   0%|          | 0/47 [00:00<?, ?it/s]"
     ]
    },
    {
     "name": "stdout",
     "output_type": "stream",
     "text": [
      "训练时间：97\n"
     ]
    },
    {
     "name": "stderr",
     "output_type": "stream",
     "text": [
      "Testing...: 100%|██████████| 47/47 [00:00<00:00, 174.42it/s]\n",
      "Training..: 100%|██████████| 100/100 [01:37<00:00,  1.02it/s, loss=0.0084] \n",
      "Testing...:   0%|          | 0/47 [00:00<?, ?it/s]"
     ]
    },
    {
     "name": "stdout",
     "output_type": "stream",
     "text": [
      "训练时间：97\n"
     ]
    },
    {
     "name": "stderr",
     "output_type": "stream",
     "text": [
      "Testing...: 100%|██████████| 47/47 [00:00<00:00, 162.63it/s]\n",
      "Training..: 100%|██████████| 100/100 [01:36<00:00,  1.04it/s, loss=0.0225] \n",
      "Testing...:   0%|          | 0/47 [00:00<?, ?it/s]"
     ]
    },
    {
     "name": "stdout",
     "output_type": "stream",
     "text": [
      "训练时间：96\n"
     ]
    },
    {
     "name": "stderr",
     "output_type": "stream",
     "text": [
      "Testing...: 100%|██████████| 47/47 [00:00<00:00, 159.61it/s]\n",
      "Training..: 100%|██████████| 100/100 [01:37<00:00,  1.02it/s, loss=0.000422]\n",
      "Testing...:   0%|          | 0/47 [00:00<?, ?it/s]"
     ]
    },
    {
     "name": "stdout",
     "output_type": "stream",
     "text": [
      "训练时间：97\n"
     ]
    },
    {
     "name": "stderr",
     "output_type": "stream",
     "text": [
      "Testing...: 100%|██████████| 47/47 [00:00<00:00, 150.43it/s]\n",
      "Training..: 100%|██████████| 100/100 [01:37<00:00,  1.02it/s, loss=0.000134]\n",
      "Testing...:   0%|          | 0/47 [00:00<?, ?it/s]"
     ]
    },
    {
     "name": "stdout",
     "output_type": "stream",
     "text": [
      "训练时间：97\n"
     ]
    },
    {
     "name": "stderr",
     "output_type": "stream",
     "text": [
      "Testing...: 100%|██████████| 47/47 [00:00<00:00, 173.56it/s]\n",
      "Training..: 100%|██████████| 100/100 [01:36<00:00,  1.03it/s, loss=0.000672]\n",
      "Testing...:   0%|          | 0/47 [00:00<?, ?it/s]"
     ]
    },
    {
     "name": "stdout",
     "output_type": "stream",
     "text": [
      "训练时间：96\n"
     ]
    },
    {
     "name": "stderr",
     "output_type": "stream",
     "text": [
      "Testing...: 100%|██████████| 47/47 [00:00<00:00, 169.38it/s]\n",
      "Training..: 100%|██████████| 100/100 [01:36<00:00,  1.03it/s, loss=0.00308]\n",
      "Testing...:   0%|          | 0/47 [00:00<?, ?it/s]"
     ]
    },
    {
     "name": "stdout",
     "output_type": "stream",
     "text": [
      "训练时间：96\n"
     ]
    },
    {
     "name": "stderr",
     "output_type": "stream",
     "text": [
      "Testing...: 100%|██████████| 47/47 [00:00<00:00, 169.86it/s]\n",
      "Training..: 100%|██████████| 100/100 [01:36<00:00,  1.03it/s, loss=0.0347] \n",
      "Testing...:   0%|          | 0/47 [00:00<?, ?it/s]"
     ]
    },
    {
     "name": "stdout",
     "output_type": "stream",
     "text": [
      "训练时间：96\n"
     ]
    },
    {
     "name": "stderr",
     "output_type": "stream",
     "text": [
      "Testing...: 100%|██████████| 47/47 [00:00<00:00, 160.41it/s]\n",
      "Training..: 100%|██████████| 100/100 [01:37<00:00,  1.03it/s, loss=0.0279] \n",
      "Testing...:   0%|          | 0/47 [00:00<?, ?it/s]"
     ]
    },
    {
     "name": "stdout",
     "output_type": "stream",
     "text": [
      "训练时间：97\n"
     ]
    },
    {
     "name": "stderr",
     "output_type": "stream",
     "text": [
      "Testing...: 100%|██████████| 47/47 [00:00<00:00, 163.52it/s]\n",
      "Training..: 100%|██████████| 100/100 [01:37<00:00,  1.03it/s, loss=0.00158]\n",
      "Testing...:   0%|          | 0/47 [00:00<?, ?it/s]"
     ]
    },
    {
     "name": "stdout",
     "output_type": "stream",
     "text": [
      "训练时间：97\n"
     ]
    },
    {
     "name": "stderr",
     "output_type": "stream",
     "text": [
      "Testing...: 100%|██████████| 47/47 [00:00<00:00, 158.79it/s]\n",
      "Training..: 100%|██████████| 100/100 [01:34<00:00,  1.06it/s, loss=0.00445]\n",
      "Testing...:   0%|          | 0/47 [00:00<?, ?it/s]"
     ]
    },
    {
     "name": "stdout",
     "output_type": "stream",
     "text": [
      "训练时间：94\n"
     ]
    },
    {
     "name": "stderr",
     "output_type": "stream",
     "text": [
      "Testing...: 100%|██████████| 47/47 [00:00<00:00, 171.25it/s]\n",
      "Training..: 100%|██████████| 100/100 [01:37<00:00,  1.03it/s, loss=0.000199]\n",
      "Testing...:   0%|          | 0/47 [00:00<?, ?it/s]"
     ]
    },
    {
     "name": "stdout",
     "output_type": "stream",
     "text": [
      "训练时间：97\n"
     ]
    },
    {
     "name": "stderr",
     "output_type": "stream",
     "text": [
      "Testing...: 100%|██████████| 47/47 [00:00<00:00, 167.60it/s]\n",
      "Training..: 100%|██████████| 100/100 [01:37<00:00,  1.02it/s, loss=0.000306]\n",
      "Testing...:   0%|          | 0/47 [00:00<?, ?it/s]"
     ]
    },
    {
     "name": "stdout",
     "output_type": "stream",
     "text": [
      "训练时间：97\n"
     ]
    },
    {
     "name": "stderr",
     "output_type": "stream",
     "text": [
      "Testing...: 100%|██████████| 47/47 [00:00<00:00, 157.65it/s]\n",
      "Training..:   1%|          | 1/100 [00:01<01:34,  1.05it/s, loss=0.257]   Traceback (most recent call last):\n",
      "  File \"/home/fanrui/anaconda3/envs/tf22/lib/python3.6/multiprocessing/queues.py\", line 230, in _feed\n",
      "    close()\n",
      "  File \"/home/fanrui/anaconda3/envs/tf22/lib/python3.6/multiprocessing/connection.py\", line 177, in close\n",
      "    self._close()\n",
      "  File \"/home/fanrui/anaconda3/envs/tf22/lib/python3.6/multiprocessing/connection.py\", line 361, in _close\n",
      "    _close(self._handle)\n",
      "OSError: [Errno 9] Bad file descriptor\n",
      "Training..: 100%|██████████| 100/100 [01:35<00:00,  1.05it/s, loss=0.00813]\n",
      "Testing...:   0%|          | 0/47 [00:00<?, ?it/s]"
     ]
    },
    {
     "name": "stdout",
     "output_type": "stream",
     "text": [
      "训练时间：95\n"
     ]
    },
    {
     "name": "stderr",
     "output_type": "stream",
     "text": [
      "Testing...: 100%|██████████| 47/47 [00:00<00:00, 177.44it/s]\n",
      "Training..: 100%|██████████| 100/100 [01:35<00:00,  1.05it/s, loss=0.0132] \n",
      "Testing...:   0%|          | 0/47 [00:00<?, ?it/s]"
     ]
    },
    {
     "name": "stdout",
     "output_type": "stream",
     "text": [
      "训练时间：95\n"
     ]
    },
    {
     "name": "stderr",
     "output_type": "stream",
     "text": [
      "Testing...: 100%|██████████| 47/47 [00:00<00:00, 175.53it/s]\n",
      "Training..: 100%|██████████| 100/100 [01:36<00:00,  1.03it/s, loss=0.0293] \n",
      "Testing...:   0%|          | 0/47 [00:00<?, ?it/s]"
     ]
    },
    {
     "name": "stdout",
     "output_type": "stream",
     "text": [
      "训练时间：96\n"
     ]
    },
    {
     "name": "stderr",
     "output_type": "stream",
     "text": [
      "Testing...: 100%|██████████| 47/47 [00:00<00:00, 177.72it/s]\n",
      "Training..: 100%|██████████| 100/100 [01:35<00:00,  1.05it/s, loss=0.0124] \n",
      "Testing...:   0%|          | 0/47 [00:00<?, ?it/s]"
     ]
    },
    {
     "name": "stdout",
     "output_type": "stream",
     "text": [
      "训练时间：95\n"
     ]
    },
    {
     "name": "stderr",
     "output_type": "stream",
     "text": [
      "Testing...: 100%|██████████| 47/47 [00:00<00:00, 177.54it/s]\n",
      "Training..: 100%|██████████| 100/100 [01:35<00:00,  1.05it/s, loss=0.038]  \n",
      "Testing...:   0%|          | 0/47 [00:00<?, ?it/s]"
     ]
    },
    {
     "name": "stdout",
     "output_type": "stream",
     "text": [
      "训练时间：95\n"
     ]
    },
    {
     "name": "stderr",
     "output_type": "stream",
     "text": [
      "Testing...: 100%|██████████| 47/47 [00:00<00:00, 174.48it/s]\n",
      "Training..: 100%|██████████| 100/100 [01:35<00:00,  1.05it/s, loss=0.0195] \n",
      "Testing...:   0%|          | 0/47 [00:00<?, ?it/s]"
     ]
    },
    {
     "name": "stdout",
     "output_type": "stream",
     "text": [
      "训练时间：95\n"
     ]
    },
    {
     "name": "stderr",
     "output_type": "stream",
     "text": [
      "Testing...: 100%|██████████| 47/47 [00:00<00:00, 178.25it/s]\n",
      "Training..: 100%|██████████| 100/100 [01:34<00:00,  1.05it/s, loss=0.012]  \n",
      "Testing...:   0%|          | 0/47 [00:00<?, ?it/s]"
     ]
    },
    {
     "name": "stdout",
     "output_type": "stream",
     "text": [
      "训练时间：94\n"
     ]
    },
    {
     "name": "stderr",
     "output_type": "stream",
     "text": [
      "Testing...: 100%|██████████| 47/47 [00:00<00:00, 167.84it/s]\n",
      "Training..: 100%|██████████| 100/100 [01:36<00:00,  1.03it/s, loss=0.00192]\n",
      "Testing...:   0%|          | 0/47 [00:00<?, ?it/s]"
     ]
    },
    {
     "name": "stdout",
     "output_type": "stream",
     "text": [
      "训练时间：96\n"
     ]
    },
    {
     "name": "stderr",
     "output_type": "stream",
     "text": [
      "Testing...: 100%|██████████| 47/47 [00:00<00:00, 171.77it/s]\n",
      "Training..: 100%|██████████| 100/100 [01:35<00:00,  1.04it/s, loss=0.002]  \n",
      "Testing...:   0%|          | 0/47 [00:00<?, ?it/s]"
     ]
    },
    {
     "name": "stdout",
     "output_type": "stream",
     "text": [
      "训练时间：95\n"
     ]
    },
    {
     "name": "stderr",
     "output_type": "stream",
     "text": [
      "Testing...: 100%|██████████| 47/47 [00:00<00:00, 168.44it/s]\n",
      "Training..: 100%|██████████| 100/100 [01:36<00:00,  1.04it/s, loss=0.00362]\n",
      "Testing...:   0%|          | 0/47 [00:00<?, ?it/s]"
     ]
    },
    {
     "name": "stdout",
     "output_type": "stream",
     "text": [
      "训练时间：96\n"
     ]
    },
    {
     "name": "stderr",
     "output_type": "stream",
     "text": [
      "Testing...: 100%|██████████| 47/47 [00:00<00:00, 176.90it/s]\n",
      "Training..: 100%|██████████| 100/100 [01:35<00:00,  1.05it/s, loss=0.000284]\n",
      "Testing...:   0%|          | 0/47 [00:00<?, ?it/s]"
     ]
    },
    {
     "name": "stdout",
     "output_type": "stream",
     "text": [
      "训练时间：95\n"
     ]
    },
    {
     "name": "stderr",
     "output_type": "stream",
     "text": [
      "Testing...: 100%|██████████| 47/47 [00:00<00:00, 175.27it/s]\n",
      "Training..: 100%|██████████| 100/100 [01:35<00:00,  1.05it/s, loss=0.00657]\n",
      "Testing...:   0%|          | 0/47 [00:00<?, ?it/s]"
     ]
    },
    {
     "name": "stdout",
     "output_type": "stream",
     "text": [
      "训练时间：95\n"
     ]
    },
    {
     "name": "stderr",
     "output_type": "stream",
     "text": [
      "Testing...: 100%|██████████| 47/47 [00:00<00:00, 174.18it/s]\n",
      "Training..: 100%|██████████| 100/100 [01:35<00:00,  1.04it/s, loss=0.0144] \n",
      "Testing...:   0%|          | 0/47 [00:00<?, ?it/s]"
     ]
    },
    {
     "name": "stdout",
     "output_type": "stream",
     "text": [
      "训练时间：95\n"
     ]
    },
    {
     "name": "stderr",
     "output_type": "stream",
     "text": [
      "Testing...: 100%|██████████| 47/47 [00:00<00:00, 175.16it/s]\n",
      "Training..: 100%|██████████| 100/100 [01:34<00:00,  1.06it/s, loss=0.000479]\n",
      "Testing...:   0%|          | 0/47 [00:00<?, ?it/s]"
     ]
    },
    {
     "name": "stdout",
     "output_type": "stream",
     "text": [
      "训练时间：94\n"
     ]
    },
    {
     "name": "stderr",
     "output_type": "stream",
     "text": [
      "Testing...: 100%|██████████| 47/47 [00:00<00:00, 174.62it/s]\n",
      "Training..: 100%|██████████| 100/100 [01:35<00:00,  1.04it/s, loss=1.05e-5]\n",
      "Testing...:   0%|          | 0/47 [00:00<?, ?it/s]"
     ]
    },
    {
     "name": "stdout",
     "output_type": "stream",
     "text": [
      "训练时间：95\n"
     ]
    },
    {
     "name": "stderr",
     "output_type": "stream",
     "text": [
      "Testing...: 100%|██████████| 47/47 [00:00<00:00, 173.33it/s]\n",
      "Training..: 100%|██████████| 100/100 [01:35<00:00,  1.05it/s, loss=0.000923]\n",
      "Testing...:   0%|          | 0/47 [00:00<?, ?it/s]"
     ]
    },
    {
     "name": "stdout",
     "output_type": "stream",
     "text": [
      "训练时间：95\n"
     ]
    },
    {
     "name": "stderr",
     "output_type": "stream",
     "text": [
      "Testing...: 100%|██████████| 47/47 [00:00<00:00, 173.26it/s]\n",
      "Training..: 100%|██████████| 100/100 [01:36<00:00,  1.04it/s, loss=0.00109]\n",
      "Testing...:   0%|          | 0/47 [00:00<?, ?it/s]"
     ]
    },
    {
     "name": "stdout",
     "output_type": "stream",
     "text": [
      "训练时间：96\n"
     ]
    },
    {
     "name": "stderr",
     "output_type": "stream",
     "text": [
      "Testing...: 100%|██████████| 47/47 [00:00<00:00, 175.16it/s]\n",
      "Training..: 100%|██████████| 100/100 [01:36<00:00,  1.04it/s, loss=0.00279]\n",
      "Testing...:   0%|          | 0/47 [00:00<?, ?it/s]"
     ]
    },
    {
     "name": "stdout",
     "output_type": "stream",
     "text": [
      "训练时间：96\n"
     ]
    },
    {
     "name": "stderr",
     "output_type": "stream",
     "text": [
      "Testing...: 100%|██████████| 47/47 [00:00<00:00, 174.86it/s]\n",
      "Training..: 100%|██████████| 100/100 [01:35<00:00,  1.05it/s, loss=0.000823]\n",
      "Testing...:   0%|          | 0/47 [00:00<?, ?it/s]"
     ]
    },
    {
     "name": "stdout",
     "output_type": "stream",
     "text": [
      "训练时间：95\n"
     ]
    },
    {
     "name": "stderr",
     "output_type": "stream",
     "text": [
      "Testing...: 100%|██████████| 47/47 [00:00<00:00, 173.82it/s]\n",
      "Training..: 100%|██████████| 100/100 [01:37<00:00,  1.03it/s, loss=0.008]  \n",
      "Testing...:   0%|          | 0/47 [00:00<?, ?it/s]"
     ]
    },
    {
     "name": "stdout",
     "output_type": "stream",
     "text": [
      "训练时间：97\n"
     ]
    },
    {
     "name": "stderr",
     "output_type": "stream",
     "text": [
      "Testing...: 100%|██████████| 47/47 [00:00<00:00, 157.39it/s]\n",
      "Training..: 100%|██████████| 100/100 [01:36<00:00,  1.04it/s, loss=0.00103]\n",
      "Testing...:   0%|          | 0/47 [00:00<?, ?it/s]"
     ]
    },
    {
     "name": "stdout",
     "output_type": "stream",
     "text": [
      "训练时间：96\n"
     ]
    },
    {
     "name": "stderr",
     "output_type": "stream",
     "text": [
      "Testing...: 100%|██████████| 47/47 [00:00<00:00, 174.16it/s]\n",
      "Training..: 100%|██████████| 100/100 [01:37<00:00,  1.03it/s, loss=0.00521]\n",
      "Testing...:   0%|          | 0/47 [00:00<?, ?it/s]"
     ]
    },
    {
     "name": "stdout",
     "output_type": "stream",
     "text": [
      "训练时间：97\n"
     ]
    },
    {
     "name": "stderr",
     "output_type": "stream",
     "text": [
      "Testing...: 100%|██████████| 47/47 [00:00<00:00, 151.11it/s]\n",
      "Training..: 100%|██████████| 100/100 [01:37<00:00,  1.03it/s, loss=0.0168] \n",
      "Testing...:   0%|          | 0/47 [00:00<?, ?it/s]"
     ]
    },
    {
     "name": "stdout",
     "output_type": "stream",
     "text": [
      "训练时间：97\n"
     ]
    },
    {
     "name": "stderr",
     "output_type": "stream",
     "text": [
      "Testing...: 100%|██████████| 47/47 [00:00<00:00, 174.41it/s]\n",
      "Training..: 100%|██████████| 100/100 [01:35<00:00,  1.05it/s, loss=0.00595]\n",
      "Testing...:   0%|          | 0/47 [00:00<?, ?it/s]"
     ]
    },
    {
     "name": "stdout",
     "output_type": "stream",
     "text": [
      "训练时间：95\n"
     ]
    },
    {
     "name": "stderr",
     "output_type": "stream",
     "text": [
      "Testing...: 100%|██████████| 47/47 [00:00<00:00, 177.13it/s]\n",
      "Training..: 100%|██████████| 100/100 [01:34<00:00,  1.06it/s, loss=0.00197]\n",
      "Testing...:   0%|          | 0/47 [00:00<?, ?it/s]"
     ]
    },
    {
     "name": "stdout",
     "output_type": "stream",
     "text": [
      "训练时间：94\n"
     ]
    },
    {
     "name": "stderr",
     "output_type": "stream",
     "text": [
      "Testing...: 100%|██████████| 47/47 [00:00<00:00, 165.79it/s]\n",
      "Training..:  17%|█▋        | 17/100 [00:16<01:20,  1.03it/s, loss=0.00334] IOPub message rate exceeded.\n",
      "The notebook server will temporarily stop sending output\n",
      "to the client in order to avoid crashing it.\n",
      "To change this limit, set the config variable\n",
      "`--NotebookApp.iopub_msg_rate_limit`.\n",
      "\n",
      "Current values:\n",
      "NotebookApp.iopub_msg_rate_limit=1000.0 (msgs/sec)\n",
      "NotebookApp.rate_limit_window=3.0 (secs)\n",
      "\n",
      "Training..: 100%|██████████| 100/100 [01:35<00:00,  1.05it/s, loss=0.0168] \n",
      "Testing...:   0%|          | 0/47 [00:00<?, ?it/s]"
     ]
    },
    {
     "name": "stdout",
     "output_type": "stream",
     "text": [
      "训练时间：95\n"
     ]
    },
    {
     "name": "stderr",
     "output_type": "stream",
     "text": [
      "Testing...: 100%|██████████| 47/47 [00:00<00:00, 177.25it/s]\n",
      "Training..:   5%|▌         | 5/100 [00:05<01:32,  1.02it/s, loss=0.00938] IOPub message rate exceeded.\n",
      "The notebook server will temporarily stop sending output\n",
      "to the client in order to avoid crashing it.\n",
      "To change this limit, set the config variable\n",
      "`--NotebookApp.iopub_msg_rate_limit`.\n",
      "\n",
      "Current values:\n",
      "NotebookApp.iopub_msg_rate_limit=1000.0 (msgs/sec)\n",
      "NotebookApp.rate_limit_window=3.0 (secs)\n",
      "\n",
      "Training..:  94%|█████████▍| 94/100 [01:29<00:05,  1.03it/s, loss=0.0733]  IOPub message rate exceeded.\n",
      "The notebook server will temporarily stop sending output\n",
      "to the client in order to avoid crashing it.\n",
      "To change this limit, set the config variable\n",
      "`--NotebookApp.iopub_msg_rate_limit`.\n",
      "\n",
      "Current values:\n",
      "NotebookApp.iopub_msg_rate_limit=1000.0 (msgs/sec)\n",
      "NotebookApp.rate_limit_window=3.0 (secs)\n",
      "\n",
      "Training..:  78%|███████▊  | 78/100 [01:15<00:21,  1.04it/s, loss=0.00628] IOPub message rate exceeded.\n",
      "The notebook server will temporarily stop sending output\n",
      "to the client in order to avoid crashing it.\n",
      "To change this limit, set the config variable\n",
      "`--NotebookApp.iopub_msg_rate_limit`.\n",
      "\n",
      "Current values:\n",
      "NotebookApp.iopub_msg_rate_limit=1000.0 (msgs/sec)\n",
      "NotebookApp.rate_limit_window=3.0 (secs)\n",
      "\n",
      "Training..:  66%|██████▌   | 66/100 [01:03<00:32,  1.04it/s, loss=0.257]   IOPub message rate exceeded.\n",
      "The notebook server will temporarily stop sending output\n",
      "to the client in order to avoid crashing it.\n",
      "To change this limit, set the config variable\n",
      "`--NotebookApp.iopub_msg_rate_limit`.\n",
      "\n",
      "Current values:\n",
      "NotebookApp.iopub_msg_rate_limit=1000.0 (msgs/sec)\n",
      "NotebookApp.rate_limit_window=3.0 (secs)\n",
      "\n",
      "Training..:  49%|████▉     | 49/100 [00:47<00:48,  1.06it/s, loss=0.0068]  IOPub message rate exceeded.\n",
      "The notebook server will temporarily stop sending output\n",
      "to the client in order to avoid crashing it.\n",
      "To change this limit, set the config variable\n",
      "`--NotebookApp.iopub_msg_rate_limit`.\n",
      "\n",
      "Current values:\n",
      "NotebookApp.iopub_msg_rate_limit=1000.0 (msgs/sec)\n",
      "NotebookApp.rate_limit_window=3.0 (secs)\n",
      "\n",
      "Training..:  36%|███▌      | 36/100 [00:34<01:02,  1.03it/s, loss=0.000495]IOPub message rate exceeded.\n",
      "The notebook server will temporarily stop sending output\n",
      "to the client in order to avoid crashing it.\n",
      "To change this limit, set the config variable\n",
      "`--NotebookApp.iopub_msg_rate_limit`.\n",
      "\n",
      "Current values:\n",
      "NotebookApp.iopub_msg_rate_limit=1000.0 (msgs/sec)\n",
      "NotebookApp.rate_limit_window=3.0 (secs)\n",
      "\n",
      "Training..:  22%|██▏       | 22/100 [00:21<01:11,  1.10it/s, loss=0.00862] IOPub message rate exceeded.\n",
      "The notebook server will temporarily stop sending output\n",
      "to the client in order to avoid crashing it.\n",
      "To change this limit, set the config variable\n",
      "`--NotebookApp.iopub_msg_rate_limit`.\n",
      "\n",
      "Current values:\n",
      "NotebookApp.iopub_msg_rate_limit=1000.0 (msgs/sec)\n",
      "NotebookApp.rate_limit_window=3.0 (secs)\n",
      "\n",
      "Training..:  94%|█████████▍| 94/100 [01:30<00:05,  1.05it/s, loss=0.000982]IOPub message rate exceeded.\n",
      "The notebook server will temporarily stop sending output\n",
      "to the client in order to avoid crashing it.\n",
      "To change this limit, set the config variable\n",
      "`--NotebookApp.iopub_msg_rate_limit`.\n",
      "\n",
      "Current values:\n",
      "NotebookApp.iopub_msg_rate_limit=1000.0 (msgs/sec)\n",
      "NotebookApp.rate_limit_window=3.0 (secs)\n",
      "\n",
      "Training..: 100%|██████████| 100/100 [01:35<00:00,  1.05it/s, loss=0.00546]\n",
      "Testing...:   0%|          | 0/47 [00:00<?, ?it/s]"
     ]
    },
    {
     "name": "stdout",
     "output_type": "stream",
     "text": [
      "训练时间：95\n"
     ]
    },
    {
     "name": "stderr",
     "output_type": "stream",
     "text": [
      "Testing...: 100%|██████████| 47/47 [00:00<00:00, 174.39it/s]\n",
      "Training..: 100%|██████████| 100/100 [01:36<00:00,  1.04it/s, loss=0.0216] \n",
      "Testing...:   0%|          | 0/47 [00:00<?, ?it/s]"
     ]
    },
    {
     "name": "stdout",
     "output_type": "stream",
     "text": [
      "训练时间：96\n"
     ]
    },
    {
     "name": "stderr",
     "output_type": "stream",
     "text": [
      "Testing...: 100%|██████████| 47/47 [00:00<00:00, 175.06it/s]\n",
      "Training..: 100%|██████████| 100/100 [01:35<00:00,  1.05it/s, loss=0.0244] \n",
      "Testing...:   0%|          | 0/47 [00:00<?, ?it/s]"
     ]
    },
    {
     "name": "stdout",
     "output_type": "stream",
     "text": [
      "训练时间：95\n"
     ]
    },
    {
     "name": "stderr",
     "output_type": "stream",
     "text": [
      "Testing...: 100%|██████████| 47/47 [00:00<00:00, 171.97it/s]\n",
      "Training..: 100%|██████████| 100/100 [01:35<00:00,  1.05it/s, loss=0.00891]\n",
      "Testing...:   0%|          | 0/47 [00:00<?, ?it/s]"
     ]
    },
    {
     "name": "stdout",
     "output_type": "stream",
     "text": [
      "训练时间：95\n"
     ]
    },
    {
     "name": "stderr",
     "output_type": "stream",
     "text": [
      "Testing...: 100%|██████████| 47/47 [00:00<00:00, 172.97it/s]\n",
      "Training..: 100%|██████████| 100/100 [01:35<00:00,  1.05it/s, loss=0.000599]\n",
      "Testing...:   0%|          | 0/47 [00:00<?, ?it/s]"
     ]
    },
    {
     "name": "stdout",
     "output_type": "stream",
     "text": [
      "训练时间：95\n"
     ]
    },
    {
     "name": "stderr",
     "output_type": "stream",
     "text": [
      "Testing...: 100%|██████████| 47/47 [00:00<00:00, 148.01it/s]\n",
      "Training..: 100%|██████████| 100/100 [01:35<00:00,  1.04it/s, loss=0.00683]\n",
      "Testing...:   0%|          | 0/47 [00:00<?, ?it/s]"
     ]
    },
    {
     "name": "stdout",
     "output_type": "stream",
     "text": [
      "训练时间：95\n"
     ]
    },
    {
     "name": "stderr",
     "output_type": "stream",
     "text": [
      "Testing...: 100%|██████████| 47/47 [00:00<00:00, 158.51it/s]\n",
      "Training..: 100%|██████████| 100/100 [01:34<00:00,  1.06it/s, loss=0.0103] \n",
      "Testing...:   0%|          | 0/47 [00:00<?, ?it/s]"
     ]
    },
    {
     "name": "stdout",
     "output_type": "stream",
     "text": [
      "训练时间：94\n"
     ]
    },
    {
     "name": "stderr",
     "output_type": "stream",
     "text": [
      "Testing...: 100%|██████████| 47/47 [00:00<00:00, 173.93it/s]\n",
      "Training..: 100%|██████████| 100/100 [01:34<00:00,  1.06it/s, loss=0.0203] \n",
      "Testing...:   0%|          | 0/47 [00:00<?, ?it/s]"
     ]
    },
    {
     "name": "stdout",
     "output_type": "stream",
     "text": [
      "训练时间：94\n"
     ]
    },
    {
     "name": "stderr",
     "output_type": "stream",
     "text": [
      "Testing...: 100%|██████████| 47/47 [00:00<00:00, 177.42it/s]\n",
      "Training..: 100%|██████████| 100/100 [01:35<00:00,  1.05it/s, loss=0.00298]\n",
      "Testing...:   0%|          | 0/47 [00:00<?, ?it/s]"
     ]
    },
    {
     "name": "stdout",
     "output_type": "stream",
     "text": [
      "训练时间：95\n"
     ]
    },
    {
     "name": "stderr",
     "output_type": "stream",
     "text": [
      "Testing...: 100%|██████████| 47/47 [00:00<00:00, 173.20it/s]\n",
      "Training..: 100%|██████████| 100/100 [01:36<00:00,  1.04it/s, loss=0.0844] \n",
      "Testing...:   0%|          | 0/47 [00:00<?, ?it/s]"
     ]
    },
    {
     "name": "stdout",
     "output_type": "stream",
     "text": [
      "训练时间：96\n"
     ]
    },
    {
     "name": "stderr",
     "output_type": "stream",
     "text": [
      "Testing...: 100%|██████████| 47/47 [00:00<00:00, 175.42it/s]\n",
      "Training..: 100%|██████████| 100/100 [01:34<00:00,  1.06it/s, loss=0.0148] \n",
      "Testing...:   0%|          | 0/47 [00:00<?, ?it/s]"
     ]
    },
    {
     "name": "stdout",
     "output_type": "stream",
     "text": [
      "训练时间：94\n"
     ]
    },
    {
     "name": "stderr",
     "output_type": "stream",
     "text": [
      "Testing...: 100%|██████████| 47/47 [00:00<00:00, 173.56it/s]\n",
      "Training..: 100%|██████████| 100/100 [01:36<00:00,  1.04it/s, loss=0.000564]\n",
      "Testing...:   0%|          | 0/47 [00:00<?, ?it/s]"
     ]
    },
    {
     "name": "stdout",
     "output_type": "stream",
     "text": [
      "训练时间：96\n"
     ]
    },
    {
     "name": "stderr",
     "output_type": "stream",
     "text": [
      "Testing...: 100%|██████████| 47/47 [00:00<00:00, 174.64it/s]\n",
      "Training..: 100%|██████████| 100/100 [01:35<00:00,  1.05it/s, loss=0.00656]\n",
      "Testing...:   0%|          | 0/47 [00:00<?, ?it/s]"
     ]
    },
    {
     "name": "stdout",
     "output_type": "stream",
     "text": [
      "训练时间：95\n"
     ]
    },
    {
     "name": "stderr",
     "output_type": "stream",
     "text": [
      "Testing...: 100%|██████████| 47/47 [00:00<00:00, 175.25it/s]\n",
      "Training..: 100%|██████████| 100/100 [01:33<00:00,  1.07it/s, loss=0.00158]\n",
      "Testing...:   0%|          | 0/47 [00:00<?, ?it/s]"
     ]
    },
    {
     "name": "stdout",
     "output_type": "stream",
     "text": [
      "训练时间：93\n"
     ]
    },
    {
     "name": "stderr",
     "output_type": "stream",
     "text": [
      "Testing...: 100%|██████████| 47/47 [00:00<00:00, 177.20it/s]\n",
      "Training..: 100%|██████████| 100/100 [01:35<00:00,  1.05it/s, loss=5.29e-5]\n",
      "Testing...:   0%|          | 0/47 [00:00<?, ?it/s]"
     ]
    },
    {
     "name": "stdout",
     "output_type": "stream",
     "text": [
      "训练时间：95\n"
     ]
    },
    {
     "name": "stderr",
     "output_type": "stream",
     "text": [
      "Testing...: 100%|██████████| 47/47 [00:00<00:00, 173.12it/s]\n",
      "Training..: 100%|██████████| 100/100 [01:35<00:00,  1.04it/s, loss=0.014]  \n",
      "Testing...:   0%|          | 0/47 [00:00<?, ?it/s]"
     ]
    },
    {
     "name": "stdout",
     "output_type": "stream",
     "text": [
      "训练时间：95\n"
     ]
    },
    {
     "name": "stderr",
     "output_type": "stream",
     "text": [
      "Testing...: 100%|██████████| 47/47 [00:00<00:00, 174.53it/s]\n",
      "Training..: 100%|██████████| 100/100 [01:35<00:00,  1.05it/s, loss=0.0321] \n",
      "Testing...:   0%|          | 0/47 [00:00<?, ?it/s]"
     ]
    },
    {
     "name": "stdout",
     "output_type": "stream",
     "text": [
      "训练时间：95\n"
     ]
    },
    {
     "name": "stderr",
     "output_type": "stream",
     "text": [
      "Testing...: 100%|██████████| 47/47 [00:00<00:00, 173.15it/s]\n",
      "Training..: 100%|██████████| 100/100 [01:35<00:00,  1.04it/s, loss=0.000409]\n",
      "Testing...:   0%|          | 0/47 [00:00<?, ?it/s]"
     ]
    },
    {
     "name": "stdout",
     "output_type": "stream",
     "text": [
      "训练时间：95\n"
     ]
    },
    {
     "name": "stderr",
     "output_type": "stream",
     "text": [
      "Testing...: 100%|██████████| 47/47 [00:00<00:00, 172.73it/s]\n",
      "Training..: 100%|██████████| 100/100 [01:35<00:00,  1.04it/s, loss=0.0059] \n",
      "Testing...:   0%|          | 0/47 [00:00<?, ?it/s]"
     ]
    },
    {
     "name": "stdout",
     "output_type": "stream",
     "text": [
      "训练时间：95\n"
     ]
    },
    {
     "name": "stderr",
     "output_type": "stream",
     "text": [
      "Testing...: 100%|██████████| 47/47 [00:00<00:00, 162.48it/s]\n",
      "Training..: 100%|██████████| 100/100 [01:35<00:00,  1.04it/s, loss=0.00101]\n",
      "Testing...:   0%|          | 0/47 [00:00<?, ?it/s]"
     ]
    },
    {
     "name": "stdout",
     "output_type": "stream",
     "text": [
      "训练时间：95\n"
     ]
    },
    {
     "name": "stderr",
     "output_type": "stream",
     "text": [
      "Testing...: 100%|██████████| 47/47 [00:00<00:00, 174.03it/s]\n",
      "Training..: 100%|██████████| 100/100 [01:36<00:00,  1.04it/s, loss=0.000741]\n",
      "Testing...:   0%|          | 0/47 [00:00<?, ?it/s]"
     ]
    },
    {
     "name": "stdout",
     "output_type": "stream",
     "text": [
      "训练时间：96\n"
     ]
    },
    {
     "name": "stderr",
     "output_type": "stream",
     "text": [
      "Testing...: 100%|██████████| 47/47 [00:00<00:00, 172.69it/s]\n",
      "Training..: 100%|██████████| 100/100 [01:35<00:00,  1.04it/s, loss=0.000126]\n",
      "Testing...:   0%|          | 0/47 [00:00<?, ?it/s]"
     ]
    },
    {
     "name": "stdout",
     "output_type": "stream",
     "text": [
      "训练时间：95\n"
     ]
    },
    {
     "name": "stderr",
     "output_type": "stream",
     "text": [
      "Testing...: 100%|██████████| 47/47 [00:00<00:00, 175.65it/s]\n",
      "Training..: 100%|██████████| 100/100 [01:35<00:00,  1.05it/s, loss=5.6e-6] \n",
      "Testing...:   0%|          | 0/47 [00:00<?, ?it/s]"
     ]
    },
    {
     "name": "stdout",
     "output_type": "stream",
     "text": [
      "训练时间：95\n"
     ]
    },
    {
     "name": "stderr",
     "output_type": "stream",
     "text": [
      "Testing...: 100%|██████████| 47/47 [00:00<00:00, 175.58it/s]\n",
      "Training..: 100%|██████████| 100/100 [01:36<00:00,  1.04it/s, loss=0.00013]\n",
      "Testing...:   0%|          | 0/47 [00:00<?, ?it/s]"
     ]
    },
    {
     "name": "stdout",
     "output_type": "stream",
     "text": [
      "训练时间：96\n"
     ]
    },
    {
     "name": "stderr",
     "output_type": "stream",
     "text": [
      "Testing...: 100%|██████████| 47/47 [00:00<00:00, 163.67it/s]\n",
      "Training..: 100%|██████████| 100/100 [01:36<00:00,  1.04it/s, loss=0.000244]\n",
      "Testing...:   0%|          | 0/47 [00:00<?, ?it/s]"
     ]
    },
    {
     "name": "stdout",
     "output_type": "stream",
     "text": [
      "训练时间：96\n"
     ]
    },
    {
     "name": "stderr",
     "output_type": "stream",
     "text": [
      "Testing...: 100%|██████████| 47/47 [00:00<00:00, 173.86it/s]\n",
      "Training..: 100%|██████████| 100/100 [01:35<00:00,  1.05it/s, loss=6.05e-5]\n",
      "Testing...:   0%|          | 0/47 [00:00<?, ?it/s]"
     ]
    },
    {
     "name": "stdout",
     "output_type": "stream",
     "text": [
      "训练时间：95\n"
     ]
    },
    {
     "name": "stderr",
     "output_type": "stream",
     "text": [
      "Testing...: 100%|██████████| 47/47 [00:00<00:00, 170.96it/s]\n",
      "Training..: 100%|██████████| 100/100 [01:34<00:00,  1.05it/s, loss=0.000134]\n",
      "Testing...:   0%|          | 0/47 [00:00<?, ?it/s]"
     ]
    },
    {
     "name": "stdout",
     "output_type": "stream",
     "text": [
      "训练时间：94\n"
     ]
    },
    {
     "name": "stderr",
     "output_type": "stream",
     "text": [
      "Testing...: 100%|██████████| 47/47 [00:00<00:00, 174.38it/s]\n",
      "Training..: 100%|██████████| 100/100 [01:36<00:00,  1.04it/s, loss=1.62e-6]\n",
      "Testing...:   0%|          | 0/47 [00:00<?, ?it/s]"
     ]
    },
    {
     "name": "stdout",
     "output_type": "stream",
     "text": [
      "训练时间：96\n"
     ]
    },
    {
     "name": "stderr",
     "output_type": "stream",
     "text": [
      "Testing...: 100%|██████████| 47/47 [00:00<00:00, 175.04it/s]\n",
      "Training..: 100%|██████████| 100/100 [01:36<00:00,  1.04it/s, loss=1.21e-8]\n",
      "Testing...:   0%|          | 0/47 [00:00<?, ?it/s]"
     ]
    },
    {
     "name": "stdout",
     "output_type": "stream",
     "text": [
      "训练时间：96\n"
     ]
    },
    {
     "name": "stderr",
     "output_type": "stream",
     "text": [
      "Testing...: 100%|██████████| 47/47 [00:00<00:00, 174.61it/s]\n",
      "Training..: 100%|██████████| 100/100 [01:34<00:00,  1.05it/s, loss=1.27e-5]\n",
      "Testing...:   0%|          | 0/47 [00:00<?, ?it/s]"
     ]
    },
    {
     "name": "stdout",
     "output_type": "stream",
     "text": [
      "训练时间：94\n"
     ]
    },
    {
     "name": "stderr",
     "output_type": "stream",
     "text": [
      "Testing...: 100%|██████████| 47/47 [00:00<00:00, 174.45it/s]\n",
      "Training..: 100%|██████████| 100/100 [01:36<00:00,  1.04it/s, loss=0.000189]\n",
      "Testing...:   0%|          | 0/47 [00:00<?, ?it/s]"
     ]
    },
    {
     "name": "stdout",
     "output_type": "stream",
     "text": [
      "训练时间：96\n"
     ]
    },
    {
     "name": "stderr",
     "output_type": "stream",
     "text": [
      "Testing...: 100%|██████████| 47/47 [00:00<00:00, 176.14it/s]\n",
      "Training..: 100%|██████████| 100/100 [01:37<00:00,  1.03it/s, loss=8.66e-5]\n",
      "Testing...:   0%|          | 0/47 [00:00<?, ?it/s]"
     ]
    },
    {
     "name": "stdout",
     "output_type": "stream",
     "text": [
      "训练时间：97\n"
     ]
    },
    {
     "name": "stderr",
     "output_type": "stream",
     "text": [
      "Testing...: 100%|██████████| 47/47 [00:00<00:00, 173.68it/s]\n",
      "Training..: 100%|██████████| 100/100 [01:35<00:00,  1.04it/s, loss=4.19e-5]\n",
      "Testing...:   0%|          | 0/47 [00:00<?, ?it/s]"
     ]
    },
    {
     "name": "stdout",
     "output_type": "stream",
     "text": [
      "训练时间：95\n"
     ]
    },
    {
     "name": "stderr",
     "output_type": "stream",
     "text": [
      "Testing...: 100%|██████████| 47/47 [00:00<00:00, 161.41it/s]\n",
      "Training..: 100%|██████████| 100/100 [01:35<00:00,  1.05it/s, loss=1.93e-6]\n",
      "Testing...:   0%|          | 0/47 [00:00<?, ?it/s]"
     ]
    },
    {
     "name": "stdout",
     "output_type": "stream",
     "text": [
      "训练时间：95\n"
     ]
    },
    {
     "name": "stderr",
     "output_type": "stream",
     "text": [
      "Testing...: 100%|██████████| 47/47 [00:00<00:00, 174.28it/s]\n",
      "Training..: 100%|██████████| 100/100 [01:35<00:00,  1.04it/s, loss=5.55e-5]\n",
      "Testing...:   0%|          | 0/47 [00:00<?, ?it/s]"
     ]
    },
    {
     "name": "stdout",
     "output_type": "stream",
     "text": [
      "训练时间：95\n"
     ]
    },
    {
     "name": "stderr",
     "output_type": "stream",
     "text": [
      "Testing...: 100%|██████████| 47/47 [00:00<00:00, 169.80it/s]\n",
      "Training..: 100%|██████████| 100/100 [01:36<00:00,  1.04it/s, loss=6.49e-5]\n",
      "Testing...:   0%|          | 0/47 [00:00<?, ?it/s]"
     ]
    },
    {
     "name": "stdout",
     "output_type": "stream",
     "text": [
      "训练时间：96\n"
     ]
    },
    {
     "name": "stderr",
     "output_type": "stream",
     "text": [
      "Testing...: 100%|██████████| 47/47 [00:00<00:00, 174.25it/s]\n",
      "Training..: 100%|██████████| 100/100 [01:35<00:00,  1.05it/s, loss=0.000392]\n",
      "Testing...:   0%|          | 0/47 [00:00<?, ?it/s]"
     ]
    },
    {
     "name": "stdout",
     "output_type": "stream",
     "text": [
      "训练时间：95\n"
     ]
    },
    {
     "name": "stderr",
     "output_type": "stream",
     "text": [
      "Testing...: 100%|██████████| 47/47 [00:00<00:00, 175.12it/s]\n",
      "Training..: 100%|██████████| 100/100 [01:36<00:00,  1.04it/s, loss=0.000136]\n",
      "Testing...:   0%|          | 0/47 [00:00<?, ?it/s]"
     ]
    },
    {
     "name": "stdout",
     "output_type": "stream",
     "text": [
      "训练时间：96\n"
     ]
    },
    {
     "name": "stderr",
     "output_type": "stream",
     "text": [
      "Testing...: 100%|██████████| 47/47 [00:00<00:00, 173.60it/s]\n",
      "Training..: 100%|██████████| 100/100 [01:37<00:00,  1.03it/s, loss=0.00131]\n",
      "Testing...:   0%|          | 0/47 [00:00<?, ?it/s]"
     ]
    },
    {
     "name": "stdout",
     "output_type": "stream",
     "text": [
      "训练时间：97\n"
     ]
    },
    {
     "name": "stderr",
     "output_type": "stream",
     "text": [
      "Testing...: 100%|██████████| 47/47 [00:00<00:00, 173.90it/s]\n",
      "Training..: 100%|██████████| 100/100 [01:36<00:00,  1.04it/s, loss=1.69e-5]\n",
      "Testing...:   0%|          | 0/47 [00:00<?, ?it/s]"
     ]
    },
    {
     "name": "stdout",
     "output_type": "stream",
     "text": [
      "训练时间：96\n"
     ]
    },
    {
     "name": "stderr",
     "output_type": "stream",
     "text": [
      "Testing...: 100%|██████████| 47/47 [00:00<00:00, 128.47it/s]\n",
      "Training..: 100%|██████████| 100/100 [01:37<00:00,  1.02it/s, loss=3.5e-5] \n",
      "Testing...:   0%|          | 0/47 [00:00<?, ?it/s]"
     ]
    },
    {
     "name": "stdout",
     "output_type": "stream",
     "text": [
      "训练时间：97\n"
     ]
    },
    {
     "name": "stderr",
     "output_type": "stream",
     "text": [
      "Testing...: 100%|██████████| 47/47 [00:00<00:00, 171.31it/s]\n",
      "Training..: 100%|██████████| 100/100 [01:37<00:00,  1.03it/s, loss=0.000148]\n",
      "Testing...:   0%|          | 0/47 [00:00<?, ?it/s]"
     ]
    },
    {
     "name": "stdout",
     "output_type": "stream",
     "text": [
      "训练时间：97\n"
     ]
    },
    {
     "name": "stderr",
     "output_type": "stream",
     "text": [
      "Testing...: 100%|██████████| 47/47 [00:00<00:00, 175.17it/s]\n",
      "Training..: 100%|██████████| 100/100 [01:36<00:00,  1.03it/s, loss=0.000243]\n",
      "Testing...:   0%|          | 0/47 [00:00<?, ?it/s]"
     ]
    },
    {
     "name": "stdout",
     "output_type": "stream",
     "text": [
      "训练时间：96\n"
     ]
    },
    {
     "name": "stderr",
     "output_type": "stream",
     "text": [
      "Testing...: 100%|██████████| 47/47 [00:00<00:00, 171.62it/s]\n",
      "Training..: 100%|██████████| 100/100 [01:38<00:00,  1.01it/s, loss=0.000154]\n",
      "Testing...:   0%|          | 0/47 [00:00<?, ?it/s]"
     ]
    },
    {
     "name": "stdout",
     "output_type": "stream",
     "text": [
      "训练时间：98\n"
     ]
    },
    {
     "name": "stderr",
     "output_type": "stream",
     "text": [
      "Testing...: 100%|██████████| 47/47 [00:00<00:00, 171.62it/s]\n",
      "Training..: 100%|██████████| 100/100 [01:32<00:00,  1.08it/s, loss=0.000221]\n",
      "Testing...:   0%|          | 0/47 [00:00<?, ?it/s]"
     ]
    },
    {
     "name": "stdout",
     "output_type": "stream",
     "text": [
      "训练时间：92\n"
     ]
    },
    {
     "name": "stderr",
     "output_type": "stream",
     "text": [
      "Testing...: 100%|██████████| 47/47 [00:00<00:00, 172.99it/s]\n",
      "Training..: 100%|██████████| 100/100 [01:36<00:00,  1.04it/s, loss=0.00202]\n",
      "Testing...:   0%|          | 0/47 [00:00<?, ?it/s]"
     ]
    },
    {
     "name": "stdout",
     "output_type": "stream",
     "text": [
      "训练时间：96\n"
     ]
    },
    {
     "name": "stderr",
     "output_type": "stream",
     "text": [
      "Testing...: 100%|██████████| 47/47 [00:00<00:00, 163.97it/s]\n",
      "Training..: 100%|██████████| 100/100 [01:36<00:00,  1.04it/s, loss=2.63e-5]\n",
      "Testing...:   0%|          | 0/47 [00:00<?, ?it/s]"
     ]
    },
    {
     "name": "stdout",
     "output_type": "stream",
     "text": [
      "训练时间：96\n"
     ]
    },
    {
     "name": "stderr",
     "output_type": "stream",
     "text": [
      "Testing...: 100%|██████████| 47/47 [00:00<00:00, 173.07it/s]\n",
      "Training..: 100%|██████████| 100/100 [01:36<00:00,  1.04it/s, loss=2.55e-5]\n",
      "Testing...:   0%|          | 0/47 [00:00<?, ?it/s]"
     ]
    },
    {
     "name": "stdout",
     "output_type": "stream",
     "text": [
      "训练时间：96\n"
     ]
    },
    {
     "name": "stderr",
     "output_type": "stream",
     "text": [
      "Testing...: 100%|██████████| 47/47 [00:00<00:00, 172.35it/s]\n",
      "Training..: 100%|██████████| 100/100 [01:35<00:00,  1.05it/s, loss=4.69e-6]\n",
      "Testing...:   0%|          | 0/47 [00:00<?, ?it/s]"
     ]
    },
    {
     "name": "stdout",
     "output_type": "stream",
     "text": [
      "训练时间：95\n"
     ]
    },
    {
     "name": "stderr",
     "output_type": "stream",
     "text": [
      "Testing...: 100%|██████████| 47/47 [00:00<00:00, 169.00it/s]\n",
      "Training..: 100%|██████████| 100/100 [01:35<00:00,  1.05it/s, loss=8.84e-6]\n",
      "Testing...:   0%|          | 0/47 [00:00<?, ?it/s]"
     ]
    },
    {
     "name": "stdout",
     "output_type": "stream",
     "text": [
      "训练时间：95\n"
     ]
    },
    {
     "name": "stderr",
     "output_type": "stream",
     "text": [
      "Testing...: 100%|██████████| 47/47 [00:00<00:00, 172.50it/s]\n",
      "Training..: 100%|██████████| 100/100 [01:36<00:00,  1.04it/s, loss=5.04e-5]\n",
      "Testing...:   0%|          | 0/47 [00:00<?, ?it/s]"
     ]
    },
    {
     "name": "stdout",
     "output_type": "stream",
     "text": [
      "训练时间：96\n"
     ]
    },
    {
     "name": "stderr",
     "output_type": "stream",
     "text": [
      "Testing...: 100%|██████████| 47/47 [00:00<00:00, 172.61it/s]\n",
      "Training..: 100%|██████████| 100/100 [01:36<00:00,  1.04it/s, loss=2.95e-7]\n",
      "Testing...:   0%|          | 0/47 [00:00<?, ?it/s]"
     ]
    },
    {
     "name": "stdout",
     "output_type": "stream",
     "text": [
      "训练时间：96\n"
     ]
    },
    {
     "name": "stderr",
     "output_type": "stream",
     "text": [
      "Testing...: 100%|██████████| 47/47 [00:00<00:00, 171.57it/s]\n",
      "Training..: 100%|██████████| 100/100 [01:35<00:00,  1.04it/s, loss=0.000162]\n",
      "Testing...:   0%|          | 0/47 [00:00<?, ?it/s]"
     ]
    },
    {
     "name": "stdout",
     "output_type": "stream",
     "text": [
      "训练时间：95\n"
     ]
    },
    {
     "name": "stderr",
     "output_type": "stream",
     "text": [
      "Testing...: 100%|██████████| 47/47 [00:00<00:00, 169.41it/s]\n",
      "Training..: 100%|██████████| 100/100 [01:35<00:00,  1.05it/s, loss=6.4e-5] \n",
      "Testing...:   0%|          | 0/47 [00:00<?, ?it/s]"
     ]
    },
    {
     "name": "stdout",
     "output_type": "stream",
     "text": [
      "训练时间：95\n"
     ]
    },
    {
     "name": "stderr",
     "output_type": "stream",
     "text": [
      "Testing...: 100%|██████████| 47/47 [00:00<00:00, 173.07it/s]\n",
      "Training..: 100%|██████████| 100/100 [01:35<00:00,  1.05it/s, loss=0.000191]\n",
      "Testing...:   0%|          | 0/47 [00:00<?, ?it/s]"
     ]
    },
    {
     "name": "stdout",
     "output_type": "stream",
     "text": [
      "训练时间：95\n"
     ]
    },
    {
     "name": "stderr",
     "output_type": "stream",
     "text": [
      "Testing...: 100%|██████████| 47/47 [00:00<00:00, 173.29it/s]\n",
      "Training..: 100%|██████████| 100/100 [01:36<00:00,  1.03it/s, loss=0.000171]\n",
      "Testing...:   0%|          | 0/47 [00:00<?, ?it/s]"
     ]
    },
    {
     "name": "stdout",
     "output_type": "stream",
     "text": [
      "训练时间：96\n"
     ]
    },
    {
     "name": "stderr",
     "output_type": "stream",
     "text": [
      "Testing...: 100%|██████████| 47/47 [00:00<00:00, 169.48it/s]\n",
      "Training..: 100%|██████████| 100/100 [01:36<00:00,  1.04it/s, loss=6.12e-6]\n",
      "Testing...:   0%|          | 0/47 [00:00<?, ?it/s]"
     ]
    },
    {
     "name": "stdout",
     "output_type": "stream",
     "text": [
      "训练时间：96\n"
     ]
    },
    {
     "name": "stderr",
     "output_type": "stream",
     "text": [
      "Testing...: 100%|██████████| 47/47 [00:00<00:00, 169.17it/s]\n",
      "Training..: 100%|██████████| 100/100 [01:36<00:00,  1.03it/s, loss=5.63e-5]\n",
      "Testing...:   0%|          | 0/47 [00:00<?, ?it/s]"
     ]
    },
    {
     "name": "stdout",
     "output_type": "stream",
     "text": [
      "训练时间：96\n"
     ]
    },
    {
     "name": "stderr",
     "output_type": "stream",
     "text": [
      "Testing...: 100%|██████████| 47/47 [00:00<00:00, 174.11it/s]\n",
      "Training..: 100%|██████████| 100/100 [01:36<00:00,  1.04it/s, loss=0.000558]\n",
      "Testing...:   0%|          | 0/47 [00:00<?, ?it/s]"
     ]
    },
    {
     "name": "stdout",
     "output_type": "stream",
     "text": [
      "训练时间：96\n"
     ]
    },
    {
     "name": "stderr",
     "output_type": "stream",
     "text": [
      "Testing...: 100%|██████████| 47/47 [00:00<00:00, 172.20it/s]\n",
      "Training..: 100%|██████████| 100/100 [01:36<00:00,  1.03it/s, loss=0.000135]\n",
      "Testing...:   0%|          | 0/47 [00:00<?, ?it/s]"
     ]
    },
    {
     "name": "stdout",
     "output_type": "stream",
     "text": [
      "训练时间：96\n"
     ]
    },
    {
     "name": "stderr",
     "output_type": "stream",
     "text": [
      "Testing...: 100%|██████████| 47/47 [00:00<00:00, 154.82it/s]\n",
      "Training..: 100%|██████████| 100/100 [01:36<00:00,  1.03it/s, loss=2.42e-5]\n",
      "Testing...:   0%|          | 0/47 [00:00<?, ?it/s]"
     ]
    },
    {
     "name": "stdout",
     "output_type": "stream",
     "text": [
      "训练时间：96\n"
     ]
    },
    {
     "name": "stderr",
     "output_type": "stream",
     "text": [
      "Testing...: 100%|██████████| 47/47 [00:00<00:00, 172.50it/s]\n",
      "Training..: 100%|██████████| 100/100 [01:35<00:00,  1.05it/s, loss=1.53e-7]\n",
      "Testing...:   0%|          | 0/47 [00:00<?, ?it/s]"
     ]
    },
    {
     "name": "stdout",
     "output_type": "stream",
     "text": [
      "训练时间：95\n"
     ]
    },
    {
     "name": "stderr",
     "output_type": "stream",
     "text": [
      "Testing...: 100%|██████████| 47/47 [00:00<00:00, 174.83it/s]\n",
      "Training..: 100%|██████████| 100/100 [01:34<00:00,  1.05it/s, loss=4.21e-6]\n",
      "Testing...:   0%|          | 0/47 [00:00<?, ?it/s]"
     ]
    },
    {
     "name": "stdout",
     "output_type": "stream",
     "text": [
      "训练时间：94\n"
     ]
    },
    {
     "name": "stderr",
     "output_type": "stream",
     "text": [
      "Testing...: 100%|██████████| 47/47 [00:00<00:00, 166.41it/s]\n",
      "Training..: 100%|██████████| 100/100 [01:35<00:00,  1.04it/s, loss=3.83e-6]\n",
      "Testing...:   0%|          | 0/47 [00:00<?, ?it/s]"
     ]
    },
    {
     "name": "stdout",
     "output_type": "stream",
     "text": [
      "训练时间：95\n"
     ]
    },
    {
     "name": "stderr",
     "output_type": "stream",
     "text": [
      "Testing...: 100%|██████████| 47/47 [00:00<00:00, 173.50it/s]\n",
      "Training..: 100%|██████████| 100/100 [01:36<00:00,  1.03it/s, loss=2.63e-5]\n",
      "Testing...:   0%|          | 0/47 [00:00<?, ?it/s]"
     ]
    },
    {
     "name": "stdout",
     "output_type": "stream",
     "text": [
      "训练时间：96\n"
     ]
    },
    {
     "name": "stderr",
     "output_type": "stream",
     "text": [
      "Testing...: 100%|██████████| 47/47 [00:00<00:00, 175.37it/s]\n"
     ]
    }
   ],
   "source": [
    "import torch\n",
    "from torch import nn\n",
    "from torch.utils.data import DataLoader\n",
    "from tqdm import tqdm\n",
    "import os\n",
    "from glob import glob\n",
    "from typing import cast\n",
    "import pandas as pd\n",
    "\n",
    "EPOCHS = 100\n",
    "WINDOW_SIZE = 40\n",
    "\n",
    "class GRU(torch.nn.Module):\n",
    "    def __init__(self, feature_dim, hidden_dim, layer_dim, output_dim):\n",
    "        super().__init__()\n",
    "        # GRU + 全连接\n",
    "        self.gru = nn.GRU(feature_dim, hidden_dim, layer_dim,\n",
    "                         batch_first=True)\n",
    "        self.fc1 = nn.Sequential(\n",
    "            nn.Linear(hidden_dim, output_dim)\n",
    "        )\n",
    "\n",
    "    def forward(self, inputs):\n",
    "        x, _ = self.gru(inputs, None)# [batch, time_step, hidden_dim]\n",
    "        x = self.fc1(x[:, -1, :]) #[batch, time_step, output_dim]\n",
    "        return x\n",
    "\n",
    "split_data_root = os.path.join(os.path.dirname(os.path.abspath('__file__')), \"split\")\n",
    "# files = os.listdir(split_data_root)\n",
    "# files = ['000622.SZ.csv']:\n",
    "files = np.loadtxt(\"./comp_idx.txt\", dtype=str).tolist()\n",
    "if isinstance(files, str):\n",
    "    files = [files] \n",
    "for c_idx in files:\n",
    "        # 模型\n",
    "        model = GRU(feature_dim=5, hidden_dim=20, layer_dim=1, output_dim=1)\n",
    "        opt = torch.optim.Adam(model.parameters(), lr=1e-4)\n",
    "        criterion = nn.SmoothL1Loss()\n",
    "        if torch.cuda.is_available():\n",
    "            model.cuda()\n",
    "\n",
    "        # 数据\n",
    "        csv = glob(os.path.join(split_data_root, f'{c_idx}.csv'))[0]\n",
    "        dt = pd.read_csv(csv)\n",
    "        dt[[\"收盘价\",\"开盘价\",\"最高价\",\"最低价\",\"成交量\"]] = (dt[[\"收盘价\",\"开盘价\",\"最高价\",\"最低价\",\"成交量\"]] - dt[[\"收盘价\",\"开盘价\",\"最高价\",\"最低价\",\"成交量\"]].mean()) / dt[[\"收盘价\",\"开盘价\",\"最高价\",\"最低价\",\"成交量\"]].std()\n",
    "        length = len(dt)\n",
    "        train_len = round(length * 0.8) \n",
    "        train_dt = dt[:train_len]\n",
    "        test_dt = dt[(train_len-WINDOW_SIZE+1):]\n",
    "\n",
    "        train_data = Data(train_dt, window_size=WINDOW_SIZE)\n",
    "        train_data = DataLoader(train_data, batch_size=1, pin_memory=True, num_workers=4)\n",
    "\n",
    "        test_data = Data(test_dt, window_size=WINDOW_SIZE)\n",
    "        test_data = DataLoader(test_data, batch_size=1, pin_memory=True, num_workers=4)\n",
    "\n",
    "        ground_truth = dt[WINDOW_SIZE:len(dt)-1].iloc[:, 2]\n",
    "\n",
    "        outputs_train = []\n",
    "        outputs_test = []\n",
    "        \n",
    "        # 训练\n",
    "        import datetime\n",
    "        starttime = datetime.datetime.now()\n",
    "\n",
    "        tq = tqdm(range(EPOCHS), total=EPOCHS, desc=\"Training..\")\n",
    "        for ep in tq:\n",
    "            for x, y in train_data:\n",
    "                x, y = cast(torch.Tensor, x), cast(torch.Tensor, y)\n",
    "                if torch.cuda.is_available():\n",
    "                    x = x.cuda()\n",
    "                    y = y.cuda()\n",
    "                out= model(x)\n",
    "                if ep == EPOCHS - 1:\n",
    "                    with torch.no_grad():\n",
    "                        outputs_train.extend(out.cpu().detach().squeeze(dim=1).numpy().tolist())\n",
    "                loss = criterion(out, y)\n",
    "                opt.zero_grad()\n",
    "                loss.backward()\n",
    "                opt.step()\n",
    "                tq.set_postfix({\n",
    "                    \"loss\": loss.item()\n",
    "                })\n",
    "        endtime = datetime.datetime.now()\n",
    "        print(f'训练时间：{(endtime - starttime).seconds}')\n",
    "        # 测试\n",
    "        test_x = []\n",
    "        with torch.no_grad():\n",
    "            for x, y in tqdm(test_data, total=len(test_data), desc=\"Testing...\"):\n",
    "                x, y = cast(torch.Tensor, x), cast(torch.Tensor, y)\n",
    "                if torch.cuda.is_available():\n",
    "                    x = x.cuda()\n",
    "                    y = y.cuda()\n",
    "                out = model(x)\n",
    "                outputs_test.extend(out.cpu().detach().squeeze(dim=1).numpy().tolist())\n",
    "                test_x.extend(x[:, -1].cpu().detach().numpy().tolist())\n",
    "\n",
    "    #     er = acc_rate(torch.as_tensor(outputs_test), torch.as_tensor(test_x))\n",
    "    #     print(f'acc_rate:{er}')\n",
    "        plot(ground_truth, outputs_train+outputs_test, train_len - WINDOW_SIZE, f\"GRU_{c_idx}\", error=0.1)"
   ]
  },
  {
   "cell_type": "code",
   "execution_count": 11,
   "id": "cdbe5e4c",
   "metadata": {},
   "outputs": [
    {
     "name": "stdout",
     "output_type": "stream",
     "text": [
      "[INFO] Register count_gru() for <class 'torch.nn.modules.rnn.GRU'>.\n",
      "[INFO] Register count_linear() for <class 'torch.nn.modules.linear.Linear'>.\n",
      "\u001b[91m[WARN] Cannot find rule for <class 'torch.nn.modules.container.Sequential'>. Treat it as zero Macs and zero Params.\u001b[00m\n",
      "\u001b[91m[WARN] Cannot find rule for <class '__main__.GRU'>. Treat it as zero Macs and zero Params.\u001b[00m\n",
      "flops:70420.0\n",
      "params:1641.0\n"
     ]
    }
   ],
   "source": [
    "from thop import profile\n",
    "\n",
    "model = GRU(feature_dim=5, hidden_dim=20, layer_dim=1, output_dim=1)\n",
    "input = torch.randn(1, 40, 5)\n",
    "flops, params = profile(model, inputs=(input, ))\n",
    "print('flops:{}'.format(flops))\n",
    "print('params:{}'.format(params))"
   ]
  }
 ],
 "metadata": {
  "kernelspec": {
   "display_name": "Python 3",
   "language": "python",
   "name": "python3"
  },
  "language_info": {
   "codemirror_mode": {
    "name": "ipython",
    "version": 3
   },
   "file_extension": ".py",
   "mimetype": "text/x-python",
   "name": "python",
   "nbconvert_exporter": "python",
   "pygments_lexer": "ipython3",
   "version": "3.6.10"
  }
 },
 "nbformat": 4,
 "nbformat_minor": 5
}
